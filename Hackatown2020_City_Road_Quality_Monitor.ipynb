{
  "nbformat": 4,
  "nbformat_minor": 0,
  "metadata": {
    "colab": {
      "name": "Hackatown2020 City Road Quality Monitor.ipynb",
      "provenance": [],
      "collapsed_sections": [],
      "include_colab_link": true
    },
    "kernelspec": {
      "name": "python3",
      "display_name": "Python 3"
    },
    "accelerator": "GPU"
  },
  "cells": [
    {
      "cell_type": "markdown",
      "metadata": {
        "id": "view-in-github",
        "colab_type": "text"
      },
      "source": [
        "<a href=\"https://colab.research.google.com/github/anatoly-khomenko/hackatown2020-crackognize/blob/master/Hackatown2020_City_Road_Quality_Monitor.ipynb\" target=\"_parent\"><img src=\"https://colab.research.google.com/assets/colab-badge.svg\" alt=\"Open In Colab\"/></a>"
      ]
    },
    {
      "cell_type": "markdown",
      "metadata": {
        "id": "fj1xpn_oZbXo",
        "colab_type": "text"
      },
      "source": [
        "# Load the pretrained model"
      ]
    },
    {
      "cell_type": "code",
      "metadata": {
        "id": "PaaQpvzyfHPs",
        "colab_type": "code",
        "outputId": "98728920-be85-4d53-a338-4a492f29265a",
        "colab": {
          "base_uri": "https://localhost:8080/",
          "height": 400
        }
      },
      "source": [
        "apiKeyStreetview = '' #@param\n",
        "!wget --output-document=model.dict \"https://drive.google.com/uc?authuser=0&id=1BRQWAkHLfnxkUk7z02FHYBATcfxzAtK0&export=download\""
      ],
      "execution_count": 0,
      "outputs": [
        {
          "output_type": "stream",
          "text": [
            "--2020-01-19 16:22:42--  https://drive.google.com/uc?authuser=0&id=1BRQWAkHLfnxkUk7z02FHYBATcfxzAtK0&export=download\n",
            "Resolving drive.google.com (drive.google.com)... 108.177.127.100, 108.177.127.101, 108.177.127.102, ...\n",
            "Connecting to drive.google.com (drive.google.com)|108.177.127.100|:443... connected.\n",
            "HTTP request sent, awaiting response... 302 Moved Temporarily\n",
            "Location: https://drive.google.com/uc?id=1BRQWAkHLfnxkUk7z02FHYBATcfxzAtK0&export=download [following]\n",
            "--2020-01-19 16:22:47--  https://drive.google.com/uc?id=1BRQWAkHLfnxkUk7z02FHYBATcfxzAtK0&export=download\n",
            "Reusing existing connection to drive.google.com:443.\n",
            "HTTP request sent, awaiting response... 302 Moved Temporarily\n",
            "Location: https://doc-0s-c4-docs.googleusercontent.com/docs/securesc/ha0ro937gcuc7l7deffksulhg5h7mbp1/ijjbph7gofrsti5e2jpgfm543n42iuaq/1579449600000/11708158960674997886/*/1BRQWAkHLfnxkUk7z02FHYBATcfxzAtK0?e=download [following]\n",
            "Warning: wildcards not supported in HTTP.\n",
            "--2020-01-19 16:22:49--  https://doc-0s-c4-docs.googleusercontent.com/docs/securesc/ha0ro937gcuc7l7deffksulhg5h7mbp1/ijjbph7gofrsti5e2jpgfm543n42iuaq/1579449600000/11708158960674997886/*/1BRQWAkHLfnxkUk7z02FHYBATcfxzAtK0?e=download\n",
            "Resolving doc-0s-c4-docs.googleusercontent.com (doc-0s-c4-docs.googleusercontent.com)... 108.177.126.132, 2a00:1450:4013:c01::84\n",
            "Connecting to doc-0s-c4-docs.googleusercontent.com (doc-0s-c4-docs.googleusercontent.com)|108.177.126.132|:443... connected.\n",
            "HTTP request sent, awaiting response... 200 OK\n",
            "Length: unspecified [application/octet-stream]\n",
            "Saving to: ‘model.dict’\n",
            "\n",
            "model.dict              [     <=>            ]  90.93M  92.3MB/s    in 1.0s    \n",
            "\n",
            "2020-01-19 16:22:51 (92.3 MB/s) - ‘model.dict’ saved [95348870]\n",
            "\n"
          ],
          "name": "stdout"
        }
      ]
    },
    {
      "cell_type": "code",
      "metadata": {
        "id": "18ixDaF5htQp",
        "colab_type": "code",
        "outputId": "ad68d44f-c2d3-4cdc-b8d3-6405a716d2b0",
        "colab": {
          "base_uri": "https://localhost:8080/",
          "height": 296
        }
      },
      "source": [
        "!pip install flask-ngrok"
      ],
      "execution_count": 0,
      "outputs": [
        {
          "output_type": "stream",
          "text": [
            "Collecting flask-ngrok\n",
            "  Downloading https://files.pythonhosted.org/packages/af/6c/f54cb686ad1129e27d125d182f90f52b32f284e6c8df58c1bae54fa1adbc/flask_ngrok-0.0.25-py3-none-any.whl\n",
            "Requirement already satisfied: requests in /usr/local/lib/python3.6/dist-packages (from flask-ngrok) (2.21.0)\n",
            "Requirement already satisfied: Flask>=0.8 in /usr/local/lib/python3.6/dist-packages (from flask-ngrok) (1.1.1)\n",
            "Requirement already satisfied: idna<2.9,>=2.5 in /usr/local/lib/python3.6/dist-packages (from requests->flask-ngrok) (2.8)\n",
            "Requirement already satisfied: certifi>=2017.4.17 in /usr/local/lib/python3.6/dist-packages (from requests->flask-ngrok) (2019.11.28)\n",
            "Requirement already satisfied: chardet<3.1.0,>=3.0.2 in /usr/local/lib/python3.6/dist-packages (from requests->flask-ngrok) (3.0.4)\n",
            "Requirement already satisfied: urllib3<1.25,>=1.21.1 in /usr/local/lib/python3.6/dist-packages (from requests->flask-ngrok) (1.24.3)\n",
            "Requirement already satisfied: Werkzeug>=0.15 in /usr/local/lib/python3.6/dist-packages (from Flask>=0.8->flask-ngrok) (0.16.0)\n",
            "Requirement already satisfied: Jinja2>=2.10.1 in /usr/local/lib/python3.6/dist-packages (from Flask>=0.8->flask-ngrok) (2.10.3)\n",
            "Requirement already satisfied: itsdangerous>=0.24 in /usr/local/lib/python3.6/dist-packages (from Flask>=0.8->flask-ngrok) (1.1.0)\n",
            "Requirement already satisfied: click>=5.1 in /usr/local/lib/python3.6/dist-packages (from Flask>=0.8->flask-ngrok) (7.0)\n",
            "Requirement already satisfied: MarkupSafe>=0.23 in /usr/local/lib/python3.6/dist-packages (from Jinja2>=2.10.1->Flask>=0.8->flask-ngrok) (1.1.1)\n",
            "Installing collected packages: flask-ngrok\n",
            "Successfully installed flask-ngrok-0.0.25\n"
          ],
          "name": "stdout"
        }
      ]
    },
    {
      "cell_type": "code",
      "metadata": {
        "id": "IrAIto-lZaKy",
        "colab_type": "code",
        "outputId": "ad135270-c87c-4eaf-d98e-e6791b2fa6eb",
        "colab": {
          "base_uri": "https://localhost:8080/",
          "height": 52
        }
      },
      "source": [
        "import torch\n",
        "import torch.nn as nn\n",
        "import torch.optim as optim\n",
        "from torch.utils.data import DataLoader\n",
        "from torch.utils.data import sampler\n",
        "from torch.optim import lr_scheduler\n",
        "from torchvision import datasets, models, transforms\n",
        "import torchvision\n",
        "import numpy as np\n",
        "import os\n",
        "from PIL import Image\n",
        "import time\n",
        "import copy\n",
        "import random\n",
        "import cv2\n",
        "import re\n",
        "import shutil\n",
        "import matplotlib.pyplot as plt\n",
        "import matplotlib.image as mpimg\n",
        "\n",
        "mean_nums = [0.485, 0.456, 0.406]\n",
        "std_nums = [0.229, 0.224, 0.225]\n",
        "\n",
        "## Define data augmentation and transforms\n",
        "chosen_transforms = {'train': transforms.Compose([\n",
        "        transforms.RandomResizedCrop(size=227),\n",
        "        transforms.RandomRotation(degrees=10),\n",
        "        transforms.RandomHorizontalFlip(),\n",
        "        transforms.RandomVerticalFlip(),\n",
        "        transforms.ColorJitter(brightness=0.15, contrast=0.15),\n",
        "        transforms.ToTensor(),\n",
        "        transforms.Normalize(mean_nums, std_nums)\n",
        "]), 'val': transforms.Compose([\n",
        "        transforms.Resize(227),\n",
        "        transforms.CenterCrop(227),\n",
        "        transforms.ToTensor(),\n",
        "        transforms.Normalize(mean_nums, std_nums)\n",
        "]),\n",
        "}\n",
        "\n",
        "## Set code to run on device\n",
        "device = torch.device(\"cuda\" if torch.cuda.is_available() else \"cpu\")\n",
        "print(device)\n",
        "\n",
        "## Load pretrained model\n",
        "resnet50 = models.resnet50(pretrained=False)\n",
        "\n",
        "# # Freeze model parameters\n",
        "# for param in resnet50.parameters():\n",
        "#     param.requires_grad = False\n",
        "\n",
        "## Change the final layer of the resnet model\n",
        "# Change the final layer of ResNet50 Model for Transfer Learning\n",
        "fc_inputs = resnet50.fc.in_features\n",
        " \n",
        "resnet50.fc = nn.Sequential(\n",
        "    nn.Linear(fc_inputs, 128),\n",
        "    nn.ReLU(),\n",
        "    nn.Dropout(0.4),\n",
        "    nn.Linear(128, 2)\n",
        ")\n",
        "\n",
        "# Convert model to be used on GPU\n",
        "resnet50 = resnet50.to(device)\n",
        "\n",
        "# from torchsummary import summary\n",
        "# print(summary(resnet50, (3, 227, 227)))\n",
        "\n",
        "resnet50.load_state_dict(torch.load(\"model.dict\", map_location=device))\n",
        "\n",
        "# resnet50.eval()"
      ],
      "execution_count": 0,
      "outputs": [
        {
          "output_type": "stream",
          "text": [
            "cuda\n"
          ],
          "name": "stdout"
        },
        {
          "output_type": "execute_result",
          "data": {
            "text/plain": [
              "<All keys matched successfully>"
            ]
          },
          "metadata": {
            "tags": []
          },
          "execution_count": 3
        }
      ]
    },
    {
      "cell_type": "code",
      "metadata": {
        "id": "2YA51wDxb8yO",
        "colab_type": "code",
        "colab": {}
      },
      "source": [
        "base_model = resnet50\n",
        "\n",
        "idx_to_class = {0:'Negative', 1:'Positive'}\n",
        "\n",
        "def predict(model, test_image, print_class = False):\n",
        "     \n",
        "    transform = chosen_transforms['val']\n",
        "     \n",
        "    test_image_tensor = transform(test_image)\n",
        " \n",
        "    if torch.cuda.is_available():\n",
        "        test_image_tensor = test_image_tensor.view(1, 3, 227, 227).cuda()\n",
        "    else:\n",
        "        test_image_tensor = test_image_tensor.view(1, 3, 227, 227)\n",
        "     \n",
        "    with torch.no_grad():\n",
        "        model.eval()\n",
        "        # Model outputs log probabilities\n",
        "        out = model(test_image_tensor)\n",
        "        ps = torch.exp(out)\n",
        "        topk, topclass = ps.topk(1, dim=1)\n",
        "        class_name = idx_to_class[topclass.cpu().numpy()[0][0]]\n",
        "        if print_class:\n",
        "            print(\"Output class :  \", class_name)\n",
        "    return class_name\n",
        "\n",
        "def predict_on_crops_return_rects(input_image, height=227, width=227, save_crops = False):\n",
        "    im = cv2.imread(input_image)\n",
        "    imgheight, imgwidth, channels = im.shape\n",
        "    rects = []\n",
        "    for i in range(0,imgheight,height):\n",
        "        for j in range(0,imgwidth,width):\n",
        "            a = im[i:i+height, j:j+width]\n",
        "            ## discard image cropss that are not full size\n",
        "            predicted_class = predict(base_model,Image.fromarray(a))\n",
        "            ## save image\n",
        "            file, ext = os.path.splitext(input_image)\n",
        "            image_name = file.split('/')[-1]\n",
        "            folder_name = 'out_' + image_name\n",
        "            ## Put predicted class on the image\n",
        "            if predicted_class == 'Positive':\n",
        "                rects.append([i,i+height,j,j+width])\n",
        "    return rects\n",
        "\n",
        "def predict_on_crops(input_image, height=227, width=227, save_crops = False):\n",
        "    im = cv2.imread(input_image)\n",
        "    if im is None:\n",
        "      print(\"Failed to read {}\".format(input_image))\n",
        "      return\n",
        "    imgheight, imgwidth, channels = im.shape\n",
        "    k=0\n",
        "    output_image = np.zeros_like(im)\n",
        "    input_name, ext = os.path.splitext(input_image)\n",
        "    \n",
        "    target_image_path = input_name + \"_prediction.jpg\"\n",
        "    rects = []\n",
        "    for i in range(0,imgheight,height):\n",
        "        for j in range(0,imgwidth,width):\n",
        "            a = im[i:i+height, j:j+width]\n",
        "            ## discard image cropss that are not full size\n",
        "            predicted_class = predict(base_model,Image.fromarray(a))\n",
        "            ## Put predicted class on the image\n",
        "            if predicted_class == 'Positive':\n",
        "                color = (0,0, 255)\n",
        "                rects.append([i,i+height,j,j+width])\n",
        "            else:\n",
        "                color = (0, 255, 0)\n",
        "            cv2.putText(a, predicted_class, (50,50), cv2.FONT_HERSHEY_SIMPLEX , 0.7, color, 1, cv2.LINE_AA) \n",
        "            b = np.zeros_like(a, dtype=np.uint8)\n",
        "            b[:] = color\n",
        "            add_img = cv2.addWeighted(a, 0.9, b, 0.1, 0)\n",
        "            output_image[i:i+height, j:j+width,:] = add_img\n",
        "    ## Save output image\n",
        "    cv2.imwrite(target_image_path, output_image)\n",
        "    target_rects_path = input_name + \"_rects_{}.json\".format(len(rects))\n",
        "    with open(target_rects_path, \"w\") as f:\n",
        "        json.dump(rects, f)\n"
      ],
      "execution_count": 0,
      "outputs": []
    },
    {
      "cell_type": "code",
      "metadata": {
        "id": "w_mO3PiGxIRQ",
        "colab_type": "code",
        "outputId": "935950dd-1923-45c2-a3af-252ab9e8442d",
        "colab": {
          "base_uri": "https://localhost:8080/",
          "height": 365
        }
      },
      "source": [
        "!pip install google_streetview"
      ],
      "execution_count": 0,
      "outputs": [
        {
          "output_type": "stream",
          "text": [
            "Collecting google_streetview\n",
            "  Downloading https://files.pythonhosted.org/packages/04/33/be168a62a973e8dd3f00a83b2481f4c5602bb8339cbe81cf70a437b04ade/google_streetview-1.2.9.tar.gz\n",
            "Collecting kwconfig\n",
            "  Downloading https://files.pythonhosted.org/packages/47/49/87ca96c4c299d24700daf45f4bb8d900b05e15e8c48179b13008fc29c509/kwconfig-1.1.7.tar.gz\n",
            "Requirement already satisfied: requests in /usr/local/lib/python3.6/dist-packages (from google_streetview) (2.21.0)\n",
            "Requirement already satisfied: urllib3<1.25,>=1.21.1 in /usr/local/lib/python3.6/dist-packages (from requests->google_streetview) (1.24.3)\n",
            "Requirement already satisfied: idna<2.9,>=2.5 in /usr/local/lib/python3.6/dist-packages (from requests->google_streetview) (2.8)\n",
            "Requirement already satisfied: certifi>=2017.4.17 in /usr/local/lib/python3.6/dist-packages (from requests->google_streetview) (2019.11.28)\n",
            "Requirement already satisfied: chardet<3.1.0,>=3.0.2 in /usr/local/lib/python3.6/dist-packages (from requests->google_streetview) (3.0.4)\n",
            "Building wheels for collected packages: google-streetview, kwconfig\n",
            "  Building wheel for google-streetview (setup.py) ... \u001b[?25l\u001b[?25hdone\n",
            "  Created wheel for google-streetview: filename=google_streetview-1.2.9-cp36-none-any.whl size=9783 sha256=40c30e741bdc39cd13864e7381263113b827f183c2f773138feecd28b87575c2\n",
            "  Stored in directory: /root/.cache/pip/wheels/e1/ce/c0/e90d7ee251659d215b7ab21a7cd80cfd65e1720fc3dca3b9ed\n",
            "  Building wheel for kwconfig (setup.py) ... \u001b[?25l\u001b[?25hdone\n",
            "  Created wheel for kwconfig: filename=kwconfig-1.1.7-cp36-none-any.whl size=4980 sha256=bab7faa29f75f228a730e1d11b9e333cbdfeaa427c841df85bdbcdb8fcf29a0a\n",
            "  Stored in directory: /root/.cache/pip/wheels/22/fa/82/fed4c9e2829a6210470b121673adddedf169b6319112b3ba20\n",
            "Successfully built google-streetview kwconfig\n",
            "Installing collected packages: kwconfig, google-streetview\n",
            "Successfully installed google-streetview-1.2.9 kwconfig-1.1.7\n"
          ],
          "name": "stdout"
        }
      ]
    },
    {
      "cell_type": "code",
      "metadata": {
        "id": "LkQXLyLPu9CO",
        "colab_type": "code",
        "colab": {}
      },
      "source": [
        "import google_streetview.api"
      ],
      "execution_count": 0,
      "outputs": []
    },
    {
      "cell_type": "code",
      "metadata": {
        "id": "MNmXZy6BHcvT",
        "colab_type": "code",
        "colab": {}
      },
      "source": [
        "import pandas as pd\n",
        "import json\n",
        "data = pd.read_csv(\"/content/coordinates-20_users.csv\")"
      ],
      "execution_count": 0,
      "outputs": []
    },
    {
      "cell_type": "code",
      "metadata": {
        "id": "oJOUHDxqw9Um",
        "colab_type": "code",
        "colab": {}
      },
      "source": [
        "def run_n_samples(n=20):\n",
        "  while(True):\n",
        "    subset = data.sample(n=n)\n",
        "    # subset = data.head(20)\n",
        "    for p in subset.iterrows():\n",
        "      folder = 'cracks_data4/' + str(p[1].id)\n",
        "      if os.path.exists(folder):\n",
        "        continue\n",
        "      # Define parameters for street view api\n",
        "      params = [{\n",
        "        'size': '1024x768', # max 640x640 pixels\n",
        "        'location': \"{},{}\".format(p[1].latitude, p[1].longitude),\n",
        "        'heading': '0',\n",
        "        'pitch': '-70',\n",
        "        'key': apiKeyStreetview\n",
        "      }]\n",
        "\n",
        "      # Create a results object\n",
        "      results = google_streetview.api.results(params)\n",
        "\n",
        "      # Download images to directory 'downloads'\n",
        "      if results.metadata[0]['status'] == 'OK':\n",
        "        results.download_links(folder)\n",
        "        # print(folder)\n",
        "        predict_on_crops(folder + '/gsv_0.jpg')"
      ],
      "execution_count": 0,
      "outputs": []
    },
    {
      "cell_type": "code",
      "metadata": {
        "id": "cqVKe7C-zGA3",
        "colab_type": "code",
        "outputId": "9d5269c6-fadb-45c9-b057-6eb749d3fb9c",
        "colab": {
          "base_uri": "https://localhost:8080/",
          "height": 296
        }
      },
      "source": [
        "!pip install gmplot"
      ],
      "execution_count": 0,
      "outputs": [
        {
          "output_type": "stream",
          "text": [
            "Collecting gmplot\n",
            "\u001b[?25l  Downloading https://files.pythonhosted.org/packages/e2/b1/e1429c31a40b3ef5840c16f78b506d03be9f27e517d3870a6fd0b356bd46/gmplot-1.2.0.tar.gz (115kB)\n",
            "\r\u001b[K     |██▉                             | 10kB 25.2MB/s eta 0:00:01\r\u001b[K     |█████▊                          | 20kB 6.2MB/s eta 0:00:01\r\u001b[K     |████████▌                       | 30kB 8.7MB/s eta 0:00:01\r\u001b[K     |███████████▍                    | 40kB 5.7MB/s eta 0:00:01\r\u001b[K     |██████████████▏                 | 51kB 6.9MB/s eta 0:00:01\r\u001b[K     |█████████████████               | 61kB 8.1MB/s eta 0:00:01\r\u001b[K     |████████████████████            | 71kB 9.3MB/s eta 0:00:01\r\u001b[K     |██████████████████████▊         | 81kB 7.4MB/s eta 0:00:01\r\u001b[K     |█████████████████████████▋      | 92kB 8.2MB/s eta 0:00:01\r\u001b[K     |████████████████████████████▍   | 102kB 9.0MB/s eta 0:00:01\r\u001b[K     |███████████████████████████████▎| 112kB 9.0MB/s eta 0:00:01\r\u001b[K     |████████████████████████████████| 122kB 9.0MB/s \n",
            "\u001b[?25hRequirement already satisfied: requests in /usr/local/lib/python3.6/dist-packages (from gmplot) (2.21.0)\n",
            "Requirement already satisfied: chardet<3.1.0,>=3.0.2 in /usr/local/lib/python3.6/dist-packages (from requests->gmplot) (3.0.4)\n",
            "Requirement already satisfied: urllib3<1.25,>=1.21.1 in /usr/local/lib/python3.6/dist-packages (from requests->gmplot) (1.24.3)\n",
            "Requirement already satisfied: certifi>=2017.4.17 in /usr/local/lib/python3.6/dist-packages (from requests->gmplot) (2019.11.28)\n",
            "Requirement already satisfied: idna<2.9,>=2.5 in /usr/local/lib/python3.6/dist-packages (from requests->gmplot) (2.8)\n",
            "Building wheels for collected packages: gmplot\n",
            "  Building wheel for gmplot (setup.py) ... \u001b[?25l\u001b[?25hdone\n",
            "  Created wheel for gmplot: filename=gmplot-1.2.0-cp36-none-any.whl size=143765 sha256=766b4ac8a4b5322161d4cc5fb3429392db87c9cd246a2869474d49c9cc980f03\n",
            "  Stored in directory: /root/.cache/pip/wheels/81/6a/76/4dd6a7cc310ba765894159ee84871e8cd55221d82ef14b81a1\n",
            "Successfully built gmplot\n",
            "Installing collected packages: gmplot\n",
            "Successfully installed gmplot-1.2.0\n"
          ],
          "name": "stdout"
        }
      ]
    },
    {
      "cell_type": "code",
      "metadata": {
        "id": "5KsfPwDWd1AL",
        "colab_type": "code",
        "colab": {}
      },
      "source": [
        "# flask_ngrok_example.py\n",
        "from flask import Flask, request\n",
        "from werkzeug.utils import secure_filename\n",
        "from flask_ngrok import run_with_ngrok\n",
        "from flask import jsonify\n",
        "import glob\n",
        "import gmplot\n",
        "import pandas as pd\n",
        "\n",
        "app = Flask(__name__)\n",
        "run_with_ngrok(app)  # Start ngrok when app is run\n",
        "\n",
        "if not os.path.exists(\"uploads\"):\n",
        "    os.mkdir(\"uploads\")\n",
        "\n",
        "@app.route(\"/\")\n",
        "def roads_display():\n",
        "  good_roads = {'latitude':[], 'longitude':[]}\n",
        "  bad_roads = {'latitude':[], 'longitude':[]}\n",
        "  threshold = 4\n",
        "  for idx, folder in enumerate(glob.glob(\"cracks_data4/*\")):\n",
        "    if not os.path.exists(folder + \"/metadata.json\"):\n",
        "      continue\n",
        "    with open(folder + \"/metadata.json\", \"r\") as meta_f:\n",
        "      metadata = json.load(meta_f)\n",
        "    for rects in glob.glob(folder + \"/gsv_0_rects_*.json\"):\n",
        "      with open(rects, \"r\") as rects_f:\n",
        "        rectangles = json.load(rects_f)\n",
        "        if len(rectangles) < threshold:\n",
        "          good_roads['latitude'].append(metadata[0]['location']['lat'])\n",
        "          good_roads['longitude'].append(metadata[0]['location']['lng'])\n",
        "        else:\n",
        "          bad_roads['latitude'].append(metadata[0]['location']['lat'])\n",
        "          bad_roads['longitude'].append(metadata[0]['location']['lng'])\n",
        "    if idx > 2000:\n",
        "      break\n",
        "  # TODO: one scatter plot per category of road cracks\n",
        "  print(len(good_roads['latitude']))\n",
        "  print(len(bad_roads['latitude']))\n",
        "  gmap = gmplot.GoogleMapPlotter(\n",
        "    45.516136,\n",
        "    -73.656830,\n",
        "    11,\n",
        "    apikey= apiKeyStreetview \n",
        "  )\n",
        "  gmap.scatter(\n",
        "    bad_roads['latitude'],\n",
        "    bad_roads['longitude'],\n",
        "    '#FF0000',\n",
        "    size = 40,\n",
        "    marker = False\n",
        "  )\n",
        "  gmap.scatter(\n",
        "    good_roads['latitude'],\n",
        "    good_roads['longitude'],\n",
        "    '#00FF00',\n",
        "    size = 40,\n",
        "    marker = False\n",
        "  )\n",
        "  gmap.draw(\"map.html\")          \n",
        "  \n",
        "  with open('map.html', 'r') as fin:\n",
        "    data = fin.read()\n",
        "  return data\n",
        "\n",
        "if __name__ == '__main__':\n",
        "    import threading\n",
        "    threading.Thread(target=run_n_samples).start()\n",
        "    app.run()  # If address is in use, may need to terminate other sessions:\n",
        "               # Runtime > Manage Sessions > Terminate Other Sessions"
      ],
      "execution_count": 0,
      "outputs": []
    },
    {
      "cell_type": "code",
      "metadata": {
        "id": "qNMKLhxwawIc",
        "colab_type": "code",
        "colab": {}
      },
      "source": [
        ""
      ],
      "execution_count": 0,
      "outputs": []
    }
  ]
}